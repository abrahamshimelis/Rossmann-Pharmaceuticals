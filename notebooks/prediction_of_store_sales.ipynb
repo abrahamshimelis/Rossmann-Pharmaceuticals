{
 "cells": [
  {
   "cell_type": "markdown",
   "metadata": {},
   "source": [
    "## Prediction of store sales"
   ]
  },
  {
   "cell_type": "markdown",
   "metadata": {},
   "source": [
    "#### Importing Libraries"
   ]
  },
  {
   "cell_type": "code",
   "execution_count": 28,
   "metadata": {},
   "outputs": [],
   "source": [
    "import sys\n",
    "sys.path.append('../')\n",
    "import pandas as pd\n",
    "import numpy as np\n",
    "from src.utils import check_missing_data"
   ]
  },
  {
   "cell_type": "markdown",
   "metadata": {},
   "source": [
    "#### Loading Data"
   ]
  },
  {
   "cell_type": "code",
   "execution_count": 29,
   "metadata": {},
   "outputs": [
    {
     "name": "stderr",
     "output_type": "stream",
     "text": [
      "C:\\Users\\abraham.shimelis\\AppData\\Local\\Temp\\ipykernel_30128\\267565919.py:1: DtypeWarning: Columns (7) have mixed types. Specify dtype option on import or set low_memory=False.\n",
      "  df_train = pd.read_csv('../data/train.csv')\n"
     ]
    }
   ],
   "source": [
    "df_train = pd.read_csv('../data/train.csv')\n",
    "df_test = pd.read_csv('../data/test.csv')\n",
    "df_store = pd.read_csv('../data/store.csv')"
   ]
  },
  {
   "cell_type": "markdown",
   "metadata": {},
   "source": [
    "#### Data Preprocessing "
   ]
  },
  {
   "cell_type": "markdown",
   "metadata": {},
   "source": [
    "##### Handling Missing Values"
   ]
  },
  {
   "cell_type": "code",
   "execution_count": 30,
   "metadata": {},
   "outputs": [
    {
     "name": "stdout",
     "output_type": "stream",
     "text": [
      "                 Column Name  Missing Values  Percentage Missing\n",
      "3        CompetitionDistance               3            0.269058\n",
      "4  CompetitionOpenSinceMonth             354           31.748879\n",
      "5   CompetitionOpenSinceYear             354           31.748879\n",
      "7            Promo2SinceWeek             544           48.789238\n",
      "8            Promo2SinceYear             544           48.789238\n",
      "9              PromoInterval             544           48.789238\n"
     ]
    }
   ],
   "source": [
    "# checking for missing values\n",
    "missing_data_df_store = check_missing_data(df_store)\n",
    "print(missing_data_df_store)"
   ]
  },
  {
   "cell_type": "code",
   "execution_count": 31,
   "metadata": {},
   "outputs": [
    {
     "name": "stderr",
     "output_type": "stream",
     "text": [
      "C:\\Users\\abraham.shimelis\\AppData\\Local\\Temp\\ipykernel_30128\\2325696550.py:2: FutureWarning: A value is trying to be set on a copy of a DataFrame or Series through chained assignment using an inplace method.\n",
      "The behavior will change in pandas 3.0. This inplace method will never work because the intermediate object on which we are setting values always behaves as a copy.\n",
      "\n",
      "For example, when doing 'df[col].method(value, inplace=True)', try using 'df.method({col: value}, inplace=True)' or df[col] = df[col].method(value) instead, to perform the operation inplace on the original object.\n",
      "\n",
      "\n",
      "  df_store['CompetitionDistance'].fillna(df_store['CompetitionDistance'].median(), inplace=True)\n",
      "C:\\Users\\abraham.shimelis\\AppData\\Local\\Temp\\ipykernel_30128\\2325696550.py:3: FutureWarning: A value is trying to be set on a copy of a DataFrame or Series through chained assignment using an inplace method.\n",
      "The behavior will change in pandas 3.0. This inplace method will never work because the intermediate object on which we are setting values always behaves as a copy.\n",
      "\n",
      "For example, when doing 'df[col].method(value, inplace=True)', try using 'df.method({col: value}, inplace=True)' or df[col] = df[col].method(value) instead, to perform the operation inplace on the original object.\n",
      "\n",
      "\n",
      "  df_store['CompetitionOpenSinceMonth'].fillna(0, inplace=True)\n",
      "C:\\Users\\abraham.shimelis\\AppData\\Local\\Temp\\ipykernel_30128\\2325696550.py:4: FutureWarning: A value is trying to be set on a copy of a DataFrame or Series through chained assignment using an inplace method.\n",
      "The behavior will change in pandas 3.0. This inplace method will never work because the intermediate object on which we are setting values always behaves as a copy.\n",
      "\n",
      "For example, when doing 'df[col].method(value, inplace=True)', try using 'df.method({col: value}, inplace=True)' or df[col] = df[col].method(value) instead, to perform the operation inplace on the original object.\n",
      "\n",
      "\n",
      "  df_store['CompetitionOpenSinceYear'].fillna(0, inplace=True)\n",
      "C:\\Users\\abraham.shimelis\\AppData\\Local\\Temp\\ipykernel_30128\\2325696550.py:5: FutureWarning: A value is trying to be set on a copy of a DataFrame or Series through chained assignment using an inplace method.\n",
      "The behavior will change in pandas 3.0. This inplace method will never work because the intermediate object on which we are setting values always behaves as a copy.\n",
      "\n",
      "For example, when doing 'df[col].method(value, inplace=True)', try using 'df.method({col: value}, inplace=True)' or df[col] = df[col].method(value) instead, to perform the operation inplace on the original object.\n",
      "\n",
      "\n",
      "  df_store['Promo2SinceWeek'].fillna(0, inplace=True)\n",
      "C:\\Users\\abraham.shimelis\\AppData\\Local\\Temp\\ipykernel_30128\\2325696550.py:6: FutureWarning: A value is trying to be set on a copy of a DataFrame or Series through chained assignment using an inplace method.\n",
      "The behavior will change in pandas 3.0. This inplace method will never work because the intermediate object on which we are setting values always behaves as a copy.\n",
      "\n",
      "For example, when doing 'df[col].method(value, inplace=True)', try using 'df.method({col: value}, inplace=True)' or df[col] = df[col].method(value) instead, to perform the operation inplace on the original object.\n",
      "\n",
      "\n",
      "  df_store['Promo2SinceYear'].fillna(0, inplace=True)\n",
      "C:\\Users\\abraham.shimelis\\AppData\\Local\\Temp\\ipykernel_30128\\2325696550.py:7: FutureWarning: A value is trying to be set on a copy of a DataFrame or Series through chained assignment using an inplace method.\n",
      "The behavior will change in pandas 3.0. This inplace method will never work because the intermediate object on which we are setting values always behaves as a copy.\n",
      "\n",
      "For example, when doing 'df[col].method(value, inplace=True)', try using 'df.method({col: value}, inplace=True)' or df[col] = df[col].method(value) instead, to perform the operation inplace on the original object.\n",
      "\n",
      "\n",
      "  df_store['PromoInterval'].fillna('', inplace=True)\n"
     ]
    }
   ],
   "source": [
    "# Handle missing values\n",
    "df_store['CompetitionDistance'].fillna(df_store['CompetitionDistance'].median(), inplace=True)\n",
    "df_store['CompetitionOpenSinceMonth'].fillna(0, inplace=True)\n",
    "df_store['CompetitionOpenSinceYear'].fillna(0, inplace=True)\n",
    "df_store['Promo2SinceWeek'].fillna(0, inplace=True)\n",
    "df_store['Promo2SinceYear'].fillna(0, inplace=True)\n",
    "df_store['PromoInterval'].fillna('', inplace=True)"
   ]
  },
  {
   "cell_type": "code",
   "execution_count": 32,
   "metadata": {},
   "outputs": [
    {
     "name": "stdout",
     "output_type": "stream",
     "text": [
      "Success: No missing values.\n"
     ]
    }
   ],
   "source": [
    "# checking for missing values\n",
    "missing_data_df_store = check_missing_data(df_store)\n",
    "print(missing_data_df_store)"
   ]
  },
  {
   "cell_type": "code",
   "execution_count": 33,
   "metadata": {},
   "outputs": [],
   "source": [
    "# Remove leading and trailing whitespaces\n",
    "df_train['StateHoliday'] = df_train['StateHoliday'].str.strip()"
   ]
  },
  {
   "cell_type": "code",
   "execution_count": 34,
   "metadata": {},
   "outputs": [
    {
     "name": "stdout",
     "output_type": "stream",
     "text": [
      "    Column Name  Missing Values  Percentage Missing\n",
      "7  StateHoliday          131072           12.885454\n"
     ]
    }
   ],
   "source": [
    "# checking for missing values\n",
    "missing_data_df_train = check_missing_data(df_train)\n",
    "print(missing_data_df_train)"
   ]
  },
  {
   "cell_type": "code",
   "execution_count": 35,
   "metadata": {},
   "outputs": [
    {
     "name": "stderr",
     "output_type": "stream",
     "text": [
      "C:\\Users\\abraham.shimelis\\AppData\\Local\\Temp\\ipykernel_30128\\1216057678.py:2: FutureWarning: A value is trying to be set on a copy of a DataFrame or Series through chained assignment using an inplace method.\n",
      "The behavior will change in pandas 3.0. This inplace method will never work because the intermediate object on which we are setting values always behaves as a copy.\n",
      "\n",
      "For example, when doing 'df[col].method(value, inplace=True)', try using 'df.method({col: value}, inplace=True)' or df[col] = df[col].method(value) instead, to perform the operation inplace on the original object.\n",
      "\n",
      "\n",
      "  df_train['StateHoliday'].fillna(0, inplace=True)\n"
     ]
    }
   ],
   "source": [
    "# Handle missing values\n",
    "df_train['StateHoliday'].fillna(0, inplace=True)"
   ]
  },
  {
   "cell_type": "code",
   "execution_count": 36,
   "metadata": {},
   "outputs": [
    {
     "name": "stdout",
     "output_type": "stream",
     "text": [
      "Success: No missing values.\n"
     ]
    }
   ],
   "source": [
    "# checking for missing values\n",
    "missing_data_df_train = check_missing_data(df_train)\n",
    "print(missing_data_df_train)"
   ]
  },
  {
   "cell_type": "code",
   "execution_count": 37,
   "metadata": {},
   "outputs": [
    {
     "name": "stdout",
     "output_type": "stream",
     "text": [
      "  Column Name  Missing Values  Percentage Missing\n",
      "4        Open              11            0.026772\n"
     ]
    }
   ],
   "source": [
    "# checking for missing values\n",
    "missing_data_df_test = check_missing_data(df_test)\n",
    "print(missing_data_df_test)"
   ]
  },
  {
   "cell_type": "code",
   "execution_count": 38,
   "metadata": {},
   "outputs": [
    {
     "name": "stderr",
     "output_type": "stream",
     "text": [
      "C:\\Users\\abraham.shimelis\\AppData\\Local\\Temp\\ipykernel_30128\\3366596396.py:2: FutureWarning: A value is trying to be set on a copy of a DataFrame or Series through chained assignment using an inplace method.\n",
      "The behavior will change in pandas 3.0. This inplace method will never work because the intermediate object on which we are setting values always behaves as a copy.\n",
      "\n",
      "For example, when doing 'df[col].method(value, inplace=True)', try using 'df.method({col: value}, inplace=True)' or df[col] = df[col].method(value) instead, to perform the operation inplace on the original object.\n",
      "\n",
      "\n",
      "  df_test['Open'].fillna(0, inplace=True)\n"
     ]
    }
   ],
   "source": [
    "# Handle missing values\n",
    "df_test['Open'].fillna(0, inplace=True)"
   ]
  },
  {
   "cell_type": "code",
   "execution_count": 39,
   "metadata": {},
   "outputs": [
    {
     "name": "stdout",
     "output_type": "stream",
     "text": [
      "Success: No missing values.\n"
     ]
    }
   ],
   "source": [
    "# checking for missing values\n",
    "missing_data_df_test = check_missing_data(df_test)\n",
    "print(missing_data_df_test)"
   ]
  }
 ],
 "metadata": {
  "kernelspec": {
   "display_name": "venv",
   "language": "python",
   "name": "python3"
  },
  "language_info": {
   "codemirror_mode": {
    "name": "ipython",
    "version": 3
   },
   "file_extension": ".py",
   "mimetype": "text/x-python",
   "name": "python",
   "nbconvert_exporter": "python",
   "pygments_lexer": "ipython3",
   "version": "3.12.1"
  }
 },
 "nbformat": 4,
 "nbformat_minor": 2
}
